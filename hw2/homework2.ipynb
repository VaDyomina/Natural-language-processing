{
 "cells": [
  {
   "cell_type": "markdown",
   "metadata": {},
   "source": [
    "# Исправление опечаток"
   ]
  },
  {
   "cell_type": "code",
   "execution_count": 2,
   "metadata": {},
   "outputs": [],
   "source": [
    "import os, re\n",
    "from string import punctuation\n",
    "import numpy as np\n",
    "import json\n",
    "from collections import Counter\n",
    "from pprint import pprint\n",
    "punct = set(punctuation)\n",
    "from sklearn.metrics import classification_report\n",
    "import pandas as pd\n",
    "from IPython.display import display"
   ]
  },
  {
   "cell_type": "markdown",
   "metadata": {},
   "source": [
    "Возьмем данные с соревнования Dialog Evaluation 2015 по исправлению опечаток. Данные представляют собой набор предложений (правильное - ошибочное). Задача найти слова с ошибками и заменить их на правильный вариант.\n",
    "\n",
    "Недостатком тут является то, что не всегда можно правильно сопоставить слова правильного предложения и ошибочного (из-за слов с пропущенным или добавленным пробелом). Из статьи авторов корпуса не очень понятно, как они решали эту проблему, поэтому я просто удалил все такие предложения."
   ]
  },
  {
   "cell_type": "code",
   "execution_count": 3,
   "metadata": {},
   "outputs": [],
   "source": [
    "bad = open('sents_with_mistakes.txt', encoding='utf8').read().splitlines()\n",
    "true = open('correct_sents.txt', encoding='utf8').read().splitlines()"
   ]
  },
  {
   "cell_type": "code",
   "execution_count": 4,
   "metadata": {},
   "outputs": [
    {
     "name": "stdout",
     "output_type": "stream",
     "text": [
      "Пояним эту мысль.\n",
      "Поясним эту мысль\n"
     ]
    }
   ],
   "source": [
    "# Посмотрим на пары предложений\n",
    "print(bad[2])\n",
    "print(true[2])"
   ]
  },
  {
   "cell_type": "code",
   "execution_count": 5,
   "metadata": {},
   "outputs": [],
   "source": [
    "# напишем функцию, которая будет сопоставлять слова в правильном и ошибочном варианте\n",
    "# разобьем предложение по пробелам и удалим пунктуация на границах слов\n",
    "def align_words(sent_1, sent_2):\n",
    "    tokens_1 = sent_1.lower().split()\n",
    "    tokens_2 = sent_2.lower().split()\n",
    "    \n",
    "    tokens_1 = [re.sub('(^\\W+|\\W+$)', '', token) for token in tokens_1 if (set(token)-punct)]\n",
    "    tokens_2 = [re.sub('(^\\W+|\\W+$)', '', token) for token in tokens_2 if (set(token)-punct)]\n",
    "    \n",
    "    return list(zip(tokens_1, tokens_2))"
   ]
  },
  {
   "cell_type": "code",
   "execution_count": 6,
   "metadata": {},
   "outputs": [
    {
     "name": "stdout",
     "output_type": "stream",
     "text": [
      "[('апофеозом', 'опофеозом'),\n",
      " ('дня', 'дня'),\n",
      " ('для', 'для'),\n",
      " ('меня', 'меня'),\n",
      " ('сегодня', 'сегодня'),\n",
      " ('стала', 'стала'),\n",
      " ('фраза', 'фраза'),\n",
      " ('услышанная', 'услышанная'),\n",
      " ('в', 'в'),\n",
      " ('новостях', 'новостях')]\n"
     ]
    }
   ],
   "source": [
    "pprint(align_words(true[1], bad[1]))"
   ]
  },
  {
   "cell_type": "markdown",
   "metadata": {},
   "source": [
    "Вытащим только неправильные варианты и заодно посчитаем процент ошибок."
   ]
  },
  {
   "cell_type": "code",
   "execution_count": 7,
   "metadata": {},
   "outputs": [],
   "source": [
    "mistakes = []\n",
    "total = 0\n",
    "\n",
    "for i in range(len(true)):\n",
    "    \n",
    "    word_pairs = align_words(true[i], bad[i])\n",
    "    \n",
    "    for pair in word_pairs:\n",
    "        if pair[0] != pair[1]:\n",
    "            mistakes.append(pair)\n",
    "        \n",
    "        total += 1"
   ]
  },
  {
   "cell_type": "code",
   "execution_count": 8,
   "metadata": {},
   "outputs": [
    {
     "name": "stdout",
     "output_type": "stream",
     "text": [
      "Доля ошибок -  0.13034358769476628\n"
     ]
    }
   ],
   "source": [
    "print('Доля ошибок - ', len(mistakes)/total )"
   ]
  },
  {
   "cell_type": "code",
   "execution_count": 9,
   "metadata": {},
   "outputs": [
    {
     "data": {
      "text/plain": [
       "[('симпатичнейшее', 'симпатичнейшое'),\n",
       " ('апофеозом', 'опофеозом'),\n",
       " ('поясним', 'пояним'),\n",
       " ('получатся', 'полчатся'),\n",
       " ('очень', 'оччччень')]"
      ]
     },
     "execution_count": 9,
     "metadata": {},
     "output_type": "execute_result"
    }
   ],
   "source": [
    "mistakes[:5]"
   ]
  },
  {
   "cell_type": "markdown",
   "metadata": {},
   "source": [
    "Обернем в Counter, чтобы сразу увидеть частотные ошибки."
   ]
  },
  {
   "cell_type": "code",
   "execution_count": 10,
   "metadata": {},
   "outputs": [
    {
     "data": {
      "text/plain": [
       "[(('сегодня', 'седня'), 24),\n",
       " (('вообще', 'вобще'), 18),\n",
       " (('вообще', 'ваще'), 17),\n",
       " (('естественно', 'естесственно'), 17),\n",
       " (('хочется', 'хочеться'), 16),\n",
       " (('кстати', 'кстате'), 16),\n",
       " (('очень', 'ооочень'), 14),\n",
       " (('как-то', 'както'), 9),\n",
       " (('очень', 'оооочень'), 9),\n",
       " (('это', 'ето'), 9)]"
      ]
     },
     "execution_count": 10,
     "metadata": {},
     "output_type": "execute_result"
    }
   ],
   "source": [
    "Counter(mistakes).most_common(10)"
   ]
  },
  {
   "cell_type": "markdown",
   "metadata": {},
   "source": [
    "Из-за того, что процент ошибок довольно низкий, не очень выгодно будет находить исправление для каждого слова. Нужен какой-то более простой классификатор, который выделит ошибочные слова, чтобы потом только их и редактировать."
   ]
  },
  {
   "cell_type": "markdown",
   "metadata": {},
   "source": [
    "Самый простой способ это сделать - составить словарь правильных слов и потом сравнивать с ним. Чтобы не делать этого вручную, можно взять какой-нибудь корпус текстов, прошедщих редактуру. Новостные тексты для этого хорошо подходят."
   ]
  },
  {
   "cell_type": "markdown",
   "metadata": {},
   "source": [
    "Я заранее собрал небольшой корпус новостных текстов и немного почистил его удалив отдельную пунктуацию и пунктуацию на границах слов."
   ]
  },
  {
   "cell_type": "code",
   "execution_count": 11,
   "metadata": {},
   "outputs": [],
   "source": [
    "corpus = open('corpus_ng.txt', encoding='utf8').read().splitlines()"
   ]
  },
  {
   "cell_type": "code",
   "execution_count": 12,
   "metadata": {},
   "outputs": [
    {
     "name": "stdout",
     "output_type": "stream",
     "text": [
      "['судя', 'по', 'всему', 'русская', 'православная', 'церковь', 'нашла', 'долгожданную', 'национальную', 'идею']\n"
     ]
    }
   ],
   "source": [
    "# нормализация нам тут не нужна так как нужно находить слова в разных формах\n",
    "print(corpus[1].split()[:10])"
   ]
  },
  {
   "cell_type": "markdown",
   "metadata": {},
   "source": [
    "## Задание 1.\n",
    "Напишите функцию, которая будет предсказывать ошибочные слова на основе корпуса."
   ]
  },
  {
   "cell_type": "code",
   "execution_count": 13,
   "metadata": {},
   "outputs": [],
   "source": [
    "vocab = set()\n",
    "\n",
    "for line in corpus: \n",
    "    words = line.lower().split()\n",
    "    vocab.update(words)"
   ]
  },
  {
   "cell_type": "code",
   "execution_count": 14,
   "metadata": {},
   "outputs": [],
   "source": [
    "def predict_mistaken(word, vocab):\n",
    "    '''\n",
    "    ::input: word, vocabulary\n",
    "    ::output: 1 or 0\n",
    "    \n",
    "    '''\n",
    "    if word == vocab:\n",
    "        return 1\n",
    "    else:\n",
    "        return 0"
   ]
  },
  {
   "cell_type": "code",
   "execution_count": 15,
   "metadata": {},
   "outputs": [],
   "source": [
    "# для оценки создайте два списка y_true и y_pred\n",
    "# пройдитесь по предложениям\n",
    "# сопоставите слова с помощью функции align_words\n",
    "# пройдитесь по парам слов и\n",
    "# если слова одинаковые добавьте в y_true 0 \n",
    "# если слова разные добавьте в y_true 1\n",
    "# предскажите ошибочность слова из bad списка \n",
    "# добавьте предсказание в список y_pred\n",
    "\n",
    "y_true = []\n",
    "y_pred = []\n",
    "\n",
    "for correct, wrong in zip(true, bad): \n",
    "    # сопоставляем слова\n",
    "    pairs = align_words(correct, wrong)\n",
    "    for correct_word, wrong_word in pairs: \n",
    "        if correct_word == wrong_word: \n",
    "            y_true.append(0)\n",
    "        else: \n",
    "            y_true.append(1)\n",
    "        pred = predict_mistaken(wrong_word, vocab)\n",
    "        y_pred.append(pred)"
   ]
  },
  {
   "cell_type": "code",
   "execution_count": 16,
   "metadata": {},
   "outputs": [
    {
     "data": {
      "text/plain": [
       "True"
      ]
     },
     "execution_count": 16,
     "metadata": {},
     "output_type": "execute_result"
    }
   ],
   "source": [
    "len (y_pred) == len(y_true)"
   ]
  },
  {
   "cell_type": "code",
   "execution_count": 17,
   "metadata": {},
   "outputs": [
    {
     "data": {
      "text/plain": [
       "[('апофеозом', 'опофеозом'),\n",
       " ('дня', 'дня'),\n",
       " ('для', 'для'),\n",
       " ('меня', 'меня'),\n",
       " ('сегодня', 'сегодня'),\n",
       " ('стала', 'стала'),\n",
       " ('фраза', 'фраза'),\n",
       " ('услышанная', 'услышанная'),\n",
       " ('в', 'в'),\n",
       " ('новостях', 'новостях')]"
      ]
     },
     "execution_count": 17,
     "metadata": {},
     "output_type": "execute_result"
    }
   ],
   "source": [
    "align_words(true[1], bad[1])"
   ]
  },
  {
   "cell_type": "code",
   "execution_count": 18,
   "metadata": {
    "scrolled": true
   },
   "outputs": [
    {
     "name": "stdout",
     "output_type": "stream",
     "text": [
      "              precision    recall  f1-score   support\n",
      "\n",
      "           0       0.87      1.00      0.93      8707\n",
      "           1       0.00      0.00      0.00      1305\n",
      "\n",
      "   micro avg       0.87      0.87      0.87     10012\n",
      "   macro avg       0.43      0.50      0.47     10012\n",
      "weighted avg       0.76      0.87      0.81     10012\n",
      "\n"
     ]
    },
    {
     "name": "stderr",
     "output_type": "stream",
     "text": [
      "/Library/Frameworks/Python.framework/Versions/3.7/lib/python3.7/site-packages/sklearn/metrics/classification.py:1143: UndefinedMetricWarning: Precision and F-score are ill-defined and being set to 0.0 in labels with no predicted samples.\n",
      "  'precision', 'predicted', average, warn_for)\n"
     ]
    }
   ],
   "source": [
    "# оцените качество с помощью classification_report\n",
    "print(classification_report(y_true, y_pred))"
   ]
  },
  {
   "cell_type": "markdown",
   "metadata": {},
   "source": [
    "### Генерация исправлений"
   ]
  },
  {
   "cell_type": "markdown",
   "metadata": {},
   "source": [
    "Теперь нужно думать о том, как исправить неправильные слова. Посмотрим как это можно делать на примере известной реализации Питера Норвига."
   ]
  },
  {
   "cell_type": "markdown",
   "metadata": {},
   "source": [
    "Основная идея - сделать словарь правильных слов (у нас уже есть), расчитать вероятность каждого слова в корпусе."
   ]
  },
  {
   "cell_type": "code",
   "execution_count": 19,
   "metadata": {},
   "outputs": [],
   "source": [
    "corpus = [sent.split() for sent in open('corpus_ng.txt', encoding='utf8').read().splitlines()]\n",
    "WORDS = Counter()\n",
    "for sent in corpus:\n",
    "    WORDS.update(sent)"
   ]
  },
  {
   "cell_type": "code",
   "execution_count": 20,
   "metadata": {},
   "outputs": [
    {
     "data": {
      "text/plain": [
       "[('в', 67679),\n",
       " ('и', 55933),\n",
       " ('на', 27860),\n",
       " ('не', 21627),\n",
       " ('что', 18299),\n",
       " ('с', 18224),\n",
       " ('по', 13117),\n",
       " ('а', 9696),\n",
       " ('как', 8958),\n",
       " ('к', 8907)]"
      ]
     },
     "execution_count": 20,
     "metadata": {},
     "output_type": "execute_result"
    }
   ],
   "source": [
    "WORDS.most_common(10)"
   ]
  },
  {
   "cell_type": "code",
   "execution_count": 21,
   "metadata": {},
   "outputs": [],
   "source": [
    "# фунцкия расчета вероятности слова\n",
    "N = sum(WORDS.values())\n",
    "def P(word, N=N): \n",
    "    \"Вычисляем вероятность слова\"\n",
    "    return WORDS[word] / N"
   ]
  },
  {
   "cell_type": "code",
   "execution_count": 22,
   "metadata": {},
   "outputs": [
    {
     "data": {
      "text/plain": [
       "1.8025455548325345e-06"
      ]
     },
     "execution_count": 22,
     "metadata": {},
     "output_type": "execute_result"
    }
   ],
   "source": [
    "P('апофеоз')"
   ]
  },
  {
   "cell_type": "markdown",
   "metadata": {},
   "source": [
    "Чтобы найти исправления нужно сгенерировать возможные исправления и выбрать те, которые есть в словаре. Если есть несколько вариантов, то выбрать тот, у котогоро наибольшая вероятность."
   ]
  },
  {
   "cell_type": "code",
   "execution_count": 23,
   "metadata": {},
   "outputs": [],
   "source": [
    "def correction(word): \n",
    "    \"Находим наиболее вероятное похожее слово\"\n",
    "    return max(candidates(word), key=P)\n",
    "\n",
    "def candidates(word): \n",
    "    \"Генерируем кандидатов на исправление\"\n",
    "    return (known([word]) or known(edits1(word)) or known(edits2(word)) or [word])\n",
    "\n",
    "def known(words): \n",
    "    \"Выбираем слова, которые есть в корпусе\"\n",
    "    return set(w for w in words if w in WORDS)\n",
    "\n",
    "def edits1(word):\n",
    "    \"Создаем кандидатов, которые отличаются на одну букву\"\n",
    "    letters    = 'йцукенгшщзхъфывапролджэячсмитьбюё'\n",
    "    splits     = [(word[:i], word[i:])    for i in range(len(word) + 1)]\n",
    "    deletes    = [L + R[1:]               for L, R in splits if R]\n",
    "    transposes = [L + R[1] + R[0] + R[2:] for L, R in splits if len(R)>1]\n",
    "    replaces   = [L + c + R[1:]           for L, R in splits if R for c in letters]\n",
    "    inserts    = [L + c + R               for L, R in splits for c in letters]\n",
    "    return set(deletes + transposes + replaces + inserts)\n",
    "\n",
    "def edits2(word): \n",
    "    \"Создаем кандидатов, которые отличаются на две буквы\"\n",
    "    return (e2 for e1 in edits1(word) for e2 in edits1(e1))"
   ]
  },
  {
   "cell_type": "code",
   "execution_count": 24,
   "metadata": {},
   "outputs": [
    {
     "name": "stdout",
     "output_type": "stream",
     "text": [
      "CPU times: user 547 µs, sys: 8 µs, total: 555 µs\n",
      "Wall time: 563 µs\n"
     ]
    },
    {
     "data": {
      "text/plain": [
       "'слова'"
      ]
     },
     "execution_count": 24,
     "metadata": {},
     "output_type": "execute_result"
    }
   ],
   "source": [
    "%%time\n",
    "correction('слива')"
   ]
  },
  {
   "cell_type": "markdown",
   "metadata": {},
   "source": [
    "Давайте поподробнее разберем, что происходит в функции edits."
   ]
  },
  {
   "cell_type": "code",
   "execution_count": 25,
   "metadata": {},
   "outputs": [],
   "source": [
    "word = 'опефеоз'\n",
    "splits = [(word[:i], word[i:])    for i in range(len(word) + 1)]"
   ]
  },
  {
   "cell_type": "code",
   "execution_count": 26,
   "metadata": {},
   "outputs": [
    {
     "data": {
      "text/plain": [
       "[('', 'опефеоз'),\n",
       " ('о', 'пефеоз'),\n",
       " ('оп', 'ефеоз'),\n",
       " ('опе', 'феоз'),\n",
       " ('опеф', 'еоз'),\n",
       " ('опефе', 'оз'),\n",
       " ('опефео', 'з'),\n",
       " ('опефеоз', '')]"
      ]
     },
     "execution_count": 26,
     "metadata": {},
     "output_type": "execute_result"
    }
   ],
   "source": [
    "splits[:10]"
   ]
  },
  {
   "cell_type": "code",
   "execution_count": 27,
   "metadata": {},
   "outputs": [],
   "source": [
    "deletes = [L + R[1:] for L, R in splits if R]"
   ]
  },
  {
   "cell_type": "code",
   "execution_count": 28,
   "metadata": {},
   "outputs": [
    {
     "data": {
      "text/plain": [
       "['пефеоз', 'оефеоз', 'опфеоз', 'опееоз', 'опефоз', 'опефез', 'опефео']"
      ]
     },
     "execution_count": 28,
     "metadata": {},
     "output_type": "execute_result"
    }
   ],
   "source": [
    "deletes[:10]"
   ]
  },
  {
   "cell_type": "code",
   "execution_count": 29,
   "metadata": {},
   "outputs": [],
   "source": [
    "transposes = [L + R[1] + R[0] + R[2:] for L, R in splits if len(R)>1]"
   ]
  },
  {
   "cell_type": "code",
   "execution_count": 30,
   "metadata": {},
   "outputs": [
    {
     "data": {
      "text/plain": [
       "['поефеоз', 'оепфеоз', 'опфееоз', 'опеефоз', 'опефоез', 'опефезо']"
      ]
     },
     "execution_count": 30,
     "metadata": {},
     "output_type": "execute_result"
    }
   ],
   "source": [
    "transposes[:10]"
   ]
  },
  {
   "cell_type": "code",
   "execution_count": 31,
   "metadata": {},
   "outputs": [],
   "source": [
    "letters    = 'йцукенгшщзхъфывапролджэячсмитьбюё'\n",
    "replaces = [L + c + R[1:] for L, R in splits if R for c in letters]"
   ]
  },
  {
   "cell_type": "code",
   "execution_count": 32,
   "metadata": {},
   "outputs": [
    {
     "data": {
      "text/plain": [
       "231"
      ]
     },
     "execution_count": 32,
     "metadata": {},
     "output_type": "execute_result"
    }
   ],
   "source": [
    "len(replaces)"
   ]
  },
  {
   "cell_type": "code",
   "execution_count": 33,
   "metadata": {},
   "outputs": [],
   "source": [
    "inserts = [L + c + R for L, R in splits for c in letters]"
   ]
  },
  {
   "cell_type": "code",
   "execution_count": 34,
   "metadata": {},
   "outputs": [
    {
     "data": {
      "text/plain": [
       "['йопефеоз',\n",
       " 'цопефеоз',\n",
       " 'уопефеоз',\n",
       " 'копефеоз',\n",
       " 'еопефеоз',\n",
       " 'нопефеоз',\n",
       " 'гопефеоз',\n",
       " 'шопефеоз',\n",
       " 'щопефеоз',\n",
       " 'зопефеоз']"
      ]
     },
     "execution_count": 34,
     "metadata": {},
     "output_type": "execute_result"
    }
   ],
   "source": [
    "inserts[:10]"
   ]
  },
  {
   "cell_type": "markdown",
   "metadata": {},
   "source": [
    "Для оценки используем просто долю правильных исправлений."
   ]
  },
  {
   "cell_type": "code",
   "execution_count": 35,
   "metadata": {},
   "outputs": [
    {
     "name": "stdout",
     "output_type": "stream",
     "text": [
      "0\n",
      "0.7333333333333333\n",
      "10\n",
      "0.8384615384615385\n",
      "20\n",
      "0.8441558441558441\n",
      "30\n",
      "0.8434343434343434\n",
      "40\n",
      "0.847953216374269\n",
      "50\n",
      "0.8518518518518519\n",
      "60\n",
      "0.8458333333333333\n",
      "70\n",
      "0.8502475247524752\n",
      "80\n",
      "0.8501594048884166\n",
      "90\n",
      "0.8526522593320236\n",
      "100\n",
      "0.8512544802867383\n",
      "110\n",
      "0.8547439126784215\n",
      "120\n",
      "0.8546017014694509\n",
      "130\n",
      "0.8534798534798534\n",
      "140\n",
      "0.8523581681476419\n",
      "150\n",
      "0.8580481622306717\n",
      "160\n",
      "0.8573113207547169\n",
      "170\n",
      "0.8568220101066817\n",
      "180\n",
      "0.8541666666666666\n",
      "190\n",
      "0.8552104208416834\n",
      "200\n",
      "0.8581048581048581\n",
      "210\n",
      "0.8593466424682396\n",
      "220\n",
      "0.8598971722365039\n",
      "230\n",
      "0.859958932238193\n",
      "240\n",
      "0.8639350599149594\n",
      "250\n",
      "0.8619170033051781\n",
      "260\n",
      "0.8628209637706648\n",
      "270\n",
      "0.8603786342123056\n",
      "280\n",
      "0.8606001936108422\n",
      "290\n",
      "0.8584758942457231\n",
      "300\n",
      "0.859375\n",
      "310\n",
      "0.8601173020527859\n",
      "320\n",
      "0.8605046781967678\n",
      "330\n",
      "0.8591549295774648\n",
      "340\n",
      "0.8582974137931034\n",
      "350\n",
      "0.8576288929599581\n",
      "360\n",
      "0.8575772934617334\n",
      "370\n",
      "0.8583478045150087\n",
      "380\n",
      "0.8595898673100121\n",
      "390\n",
      "0.8602558029369967\n",
      "400\n",
      "0.8619809788912085\n",
      "410\n",
      "0.8613615870153292\n",
      "420\n",
      "0.8614124418862077\n",
      "430\n",
      "0.8616013775290573\n",
      "440\n",
      "0.8627616832311271\n",
      "450\n",
      "0.8620833333333333\n",
      "460\n",
      "0.8622645331172777\n",
      "470\n",
      "0.8599129402453503\n",
      "480\n",
      "0.8604380693932933\n",
      "490\n",
      "0.8607690850539875\n",
      "500\n",
      "0.8608841010401189\n",
      "510\n",
      "0.8597572023917376\n",
      "520\n",
      "0.8594642857142857\n",
      "530\n",
      "0.8600844772967265\n",
      "540\n",
      "0.8593077320475289\n",
      "550\n",
      "0.8594704684317719\n",
      "560\n",
      "0.8599066044029353\n",
      "570\n",
      "0.8620352250489237\n",
      "580\n",
      "0.8629109479731887\n",
      "590\n",
      "0.8618853742561854\n",
      "600\n",
      "0.8621434078643022\n",
      "610\n",
      "0.863238841978287\n",
      "620\n",
      "0.8632870233520544\n",
      "630\n",
      "0.8626709339540297\n",
      "640\n",
      "0.8630097645031591\n",
      "650\n",
      "0.8634884707879473\n",
      "660\n",
      "0.8628244487859336\n",
      "670\n",
      "0.861328931077177\n",
      "680\n",
      "0.8615322144017326\n",
      "690\n",
      "0.8623535676251332\n",
      "700\n",
      "0.8620734908136483\n",
      "710\n",
      "0.862180733826008\n",
      "720\n",
      "0.860897435897436\n",
      "730\n",
      "0.860253164556962\n",
      "740\n",
      "0.8604941352632892\n",
      "750\n",
      "0.860599361336281\n",
      "760\n",
      "0.8605103280680437\n",
      "770\n",
      "0.8605042016806723\n",
      "780\n",
      "0.8587523719165086\n",
      "790\n",
      "0.8589294062646097\n",
      "800\n",
      "0.8593840119967701\n",
      "810\n",
      "0.8597971047532201\n",
      "820\n",
      "0.8604651162790697\n",
      "830\n",
      "0.8603773584905661\n",
      "840\n",
      "0.8598795840175151\n",
      "850\n",
      "0.8588349305480779\n",
      "860\n",
      "0.8581454700127605\n",
      "870\n",
      "0.8584945332211943\n",
      "880\n",
      "0.8585700905401187\n",
      "890\n",
      "0.8592995789257472\n",
      "900\n",
      "0.8595653939886271\n",
      "910\n",
      "0.859786763226715\n"
     ]
    }
   ],
   "source": [
    "# До этого мы уже считали долю ошибок во всех предложениях.\n",
    "# Поэтому если ничего не менять то доля правильных исправлений уже будет 100 - 13 = 87 %.\n",
    "# Наш подход соответственно должен показывать лучший результат \n",
    "correct = 0\n",
    "total = 0\n",
    "\n",
    "for i in range(len(true)):\n",
    "    word_pairs = align_words(true[i], bad[i])\n",
    "    \n",
    "    for pair in word_pairs:\n",
    "        \n",
    "        predicted = correction(pair[1])\n",
    "        if predicted == pair[0]:\n",
    "            correct += 1\n",
    "        total += 1\n",
    "    if not i % 10:\n",
    "        print(i)\n",
    "        print(correct/total)"
   ]
  },
  {
   "cell_type": "code",
   "execution_count": 36,
   "metadata": {},
   "outputs": [
    {
     "name": "stdout",
     "output_type": "stream",
     "text": [
      "0.8600679184978026\n"
     ]
    }
   ],
   "source": [
    "print(correct/total)"
   ]
  },
  {
   "cell_type": "code",
   "execution_count": 37,
   "metadata": {},
   "outputs": [
    {
     "name": "stdout",
     "output_type": "stream",
     "text": [
      "CPU times: user 205 µs, sys: 0 ns, total: 205 µs\n",
      "Wall time: 211 µs\n"
     ]
    },
    {
     "data": {
      "text/plain": [
       "'на'"
      ]
     },
     "execution_count": 37,
     "metadata": {},
     "output_type": "execute_result"
    }
   ],
   "source": [
    "%%time\n",
    "correction('нав')"
   ]
  },
  {
   "cell_type": "code",
   "execution_count": 38,
   "metadata": {},
   "outputs": [
    {
     "name": "stdout",
     "output_type": "stream",
     "text": [
      "CPU times: user 3.42 s, sys: 30.9 ms, total: 3.45 s\n",
      "Wall time: 3.5 s\n"
     ]
    },
    {
     "data": {
      "text/plain": [
       "'насмехатьсяаававттававаываываы'"
      ]
     },
     "execution_count": 38,
     "metadata": {},
     "output_type": "execute_result"
    }
   ],
   "source": [
    "%%time\n",
    "correction('насмехатьсяаававттававаываываы')"
   ]
  },
  {
   "cell_type": "markdown",
   "metadata": {},
   "source": [
    "Посмотрим какие исправления выбираются для самых частотных опечаток."
   ]
  },
  {
   "cell_type": "code",
   "execution_count": 39,
   "metadata": {},
   "outputs": [
    {
     "data": {
      "text/plain": [
       "[('сегодня', 'седня', 'сеня'),\n",
       " ('вообще', 'вобще', 'вообще'),\n",
       " ('вообще', 'ваще', 'ваще'),\n",
       " ('естественно', 'естесственно', 'естественно'),\n",
       " ('хочется', 'хочеться', 'хочется'),\n",
       " ('кстати', 'кстате', 'кстати'),\n",
       " ('очень', 'ооочень', 'очень'),\n",
       " ('как-то', 'както', 'какао'),\n",
       " ('очень', 'оооочень', 'оооочень'),\n",
       " ('это', 'ето', 'ето')]"
      ]
     },
     "execution_count": 39,
     "metadata": {},
     "output_type": "execute_result"
    }
   ],
   "source": [
    "[(wt[0], wt[1], correction(wt[1])) for wt, _ in Counter(mistakes).most_common(10)]"
   ]
  },
  {
   "cell_type": "markdown",
   "metadata": {},
   "source": [
    "### Метрики близости слов."
   ]
  },
  {
   "cell_type": "markdown",
   "metadata": {},
   "source": [
    "Вместо того, чтобы генерировать все варианты, можно искать похожие слова в словаре. Для этого нужно задать метрику похожести. Для исправления опечаток часто используются расстояния редактирования (количество редактирований, которые нужно сделать в строке a, чтобы прийти к b."
   ]
  },
  {
   "cell_type": "code",
   "execution_count": null,
   "metadata": {},
   "outputs": [],
   "source": [
    "# в питоне есть библиотеке для нахождения близких строк"
   ]
  },
  {
   "cell_type": "code",
   "execution_count": 40,
   "metadata": {},
   "outputs": [],
   "source": [
    "from difflib import get_close_matches"
   ]
  },
  {
   "cell_type": "code",
   "execution_count": 41,
   "metadata": {},
   "outputs": [
    {
     "name": "stdout",
     "output_type": "stream",
     "text": [
      "CPU times: user 875 ms, sys: 4.86 ms, total: 880 ms\n",
      "Wall time: 881 ms\n"
     ]
    },
    {
     "data": {
      "text/plain": [
       "['апофеоз']"
      ]
     },
     "execution_count": 41,
     "metadata": {},
     "output_type": "execute_result"
    }
   ],
   "source": [
    "%%time\n",
    "get_close_matches('опофеоз', WORDS.keys(), n=1)"
   ]
  },
  {
   "cell_type": "markdown",
   "metadata": {},
   "source": [
    "Работает тоже не очень быстро."
   ]
  },
  {
   "cell_type": "markdown",
   "metadata": {},
   "source": [
    "Недавно вышла библиотека, в которой реализованы многие методы нахождения расстояний."
   ]
  },
  {
   "cell_type": "code",
   "execution_count": null,
   "metadata": {},
   "outputs": [],
   "source": [
    "!pip install textdistance"
   ]
  },
  {
   "cell_type": "code",
   "execution_count": 42,
   "metadata": {},
   "outputs": [],
   "source": [
    "import textdistance"
   ]
  },
  {
   "cell_type": "code",
   "execution_count": 43,
   "metadata": {},
   "outputs": [],
   "source": [
    "def get_closest_match_with_metric(text, lookup, metric=textdistance.levenshtein):\n",
    "    similarities = Counter()\n",
    "    for word in lookup:\n",
    "        similarities[word] = metric.normalized_similarity(text, word) \n",
    "    \n",
    "    return similarities.most_common(1)[0]"
   ]
  },
  {
   "cell_type": "code",
   "execution_count": 44,
   "metadata": {},
   "outputs": [
    {
     "name": "stdout",
     "output_type": "stream",
     "text": [
      "CPU times: user 3.78 s, sys: 24.6 ms, total: 3.8 s\n",
      "Wall time: 3.82 s\n"
     ]
    },
    {
     "data": {
      "text/plain": [
       "('апофеоз', 0.7142857142857143)"
      ]
     },
     "execution_count": 44,
     "metadata": {},
     "output_type": "execute_result"
    }
   ],
   "source": [
    "%%time\n",
    "get_closest_match_with_metric('опофиоз', WORDS, textdistance.hamming)"
   ]
  },
  {
   "cell_type": "code",
   "execution_count": 45,
   "metadata": {},
   "outputs": [
    {
     "name": "stdout",
     "output_type": "stream",
     "text": [
      "CPU times: user 46.5 s, sys: 481 ms, total: 47 s\n",
      "Wall time: 46.7 s\n"
     ]
    },
    {
     "data": {
      "text/plain": [
       "('апофеоз', 0.8571428571428572)"
      ]
     },
     "execution_count": 45,
     "metadata": {},
     "output_type": "execute_result"
    }
   ],
   "source": [
    "%%time\n",
    "get_closest_match_with_metric('апофиоз', WORDS, textdistance.levenshtein)"
   ]
  },
  {
   "cell_type": "markdown",
   "metadata": {},
   "source": [
    "Ждать так долго мы не можем, поэтому попробуем что-то побыстрее."
   ]
  },
  {
   "cell_type": "markdown",
   "metadata": {},
   "source": [
    "Многие вещи, которые медленно решаются в питоне, можно оптимизировать с помощью матричных и векторных операций."
   ]
  },
  {
   "cell_type": "markdown",
   "metadata": {},
   "source": [
    "Сделаем поиск похожих по векторам символов, из которых состоит слово."
   ]
  },
  {
   "cell_type": "code",
   "execution_count": 46,
   "metadata": {},
   "outputs": [],
   "source": [
    "import numpy as np\n",
    "from sklearn.feature_extraction.text import CountVectorizer, TfidfVectorizer\n",
    "from sklearn.metrics.pairwise import cosine_similarity, cosine_distances"
   ]
  },
  {
   "cell_type": "code",
   "execution_count": 47,
   "metadata": {},
   "outputs": [],
   "source": [
    "corpus = [sent.split() for sent in open('corpus_ng.txt', encoding='utf8').read().splitlines()]\n",
    "WORDS = Counter()\n",
    "for sent in corpus:\n",
    "    WORDS.update(sent)"
   ]
  },
  {
   "cell_type": "code",
   "execution_count": 48,
   "metadata": {},
   "outputs": [],
   "source": [
    "vocab = list(WORDS.keys())\n",
    "id2word = {i:word for i, word in enumerate(vocab)}\n",
    "\n",
    "vec = TfidfVectorizer(analyzer='char', ngram_range=(1,1))\n",
    "X = vec.fit_transform(vocab)"
   ]
  },
  {
   "cell_type": "code",
   "execution_count": 49,
   "metadata": {},
   "outputs": [],
   "source": [
    "def get_closest_match_vec(text, X, vec, TOPN=3):\n",
    "    v = vec.transform([text])\n",
    "    similarities = cosine_distances(v, X)\n",
    "    topn = similarities.argsort()[0][:TOPN]\n",
    "    \n",
    "    return [id2word[top] for top in topn]"
   ]
  },
  {
   "cell_type": "code",
   "execution_count": 50,
   "metadata": {},
   "outputs": [
    {
     "name": "stdout",
     "output_type": "stream",
     "text": [
      "CPU times: user 43.5 ms, sys: 11.3 ms, total: 54.8 ms\n",
      "Wall time: 54.5 ms\n"
     ]
    },
    {
     "data": {
      "text/plain": [
       "['апофеоз', 'апофеозом', 'апофеоза']"
      ]
     },
     "execution_count": 50,
     "metadata": {},
     "output_type": "execute_result"
    }
   ],
   "source": [
    "%%time\n",
    "get_closest_match_vec('опофеоз', X, vec)"
   ]
  },
  {
   "cell_type": "markdown",
   "metadata": {},
   "source": [
    "## Задание 2. \n"
   ]
  },
  {
   "cell_type": "markdown",
   "metadata": {},
   "source": [
    "Напишите функцию, которая принимает слово и находит ближайшее к нему в словаре (сгенерируйте несколько кандидатов с помощью get_closest_match_vec, а затем посчитайте метрики близости до каждого слова и выведете самое близкое). "
   ]
  },
  {
   "cell_type": "code",
   "execution_count": 51,
   "metadata": {},
   "outputs": [],
   "source": [
    "def get_closest_hybrid_match(text, X, vec, metric=textdistance.levenshtein):\n",
    "    candidates = get_closest_match_vec(text, X, vec, 5)\n",
    "    closest = get_closest_match_with_metric(text,  candidates, metric)[0]\n",
    "    return closest"
   ]
  },
  {
   "cell_type": "code",
   "execution_count": 52,
   "metadata": {},
   "outputs": [
    {
     "data": {
      "text/plain": [
       "'алкоголь'"
      ]
     },
     "execution_count": 52,
     "metadata": {},
     "output_type": "execute_result"
    }
   ],
   "source": [
    "get_closest_hybrid_match('алкогнль', X, vec)"
   ]
  },
  {
   "cell_type": "code",
   "execution_count": 53,
   "metadata": {},
   "outputs": [
    {
     "name": "stdout",
     "output_type": "stream",
     "text": [
      "0\n",
      "0.5333333333333333\n",
      "10\n",
      "0.8076923076923077\n",
      "20\n",
      "0.8095238095238095\n",
      "30\n",
      "0.8106060606060606\n",
      "40\n",
      "0.8128654970760234\n",
      "50\n",
      "0.8164251207729468\n",
      "60\n",
      "0.8083333333333333\n",
      "70\n",
      "0.8118811881188119\n",
      "80\n",
      "0.8161530286928799\n",
      "90\n",
      "0.8172888015717092\n",
      "100\n",
      "0.8127240143369175\n",
      "110\n",
      "0.8161209068010076\n",
      "120\n",
      "0.8190255220417634\n",
      "130\n",
      "0.8175824175824176\n",
      "140\n",
      "0.8140806561859193\n",
      "150\n",
      "0.8225602027883396\n",
      "160\n",
      "0.8213443396226415\n",
      "170\n",
      "0.8220101066816395\n",
      "180\n",
      "0.8194444444444444\n",
      "190\n",
      "0.8211422845691383\n",
      "200\n",
      "0.823953823953824\n",
      "210\n",
      "0.8262250453720508\n",
      "220\n",
      "0.8269065981148244\n",
      "230\n",
      "0.8279260780287474\n",
      "240\n",
      "0.8326246617703904\n",
      "250\n",
      "0.82959970620639\n",
      "260\n",
      "0.8301090397467464\n",
      "270\n",
      "0.828262339418526\n",
      "280\n",
      "0.829945143594708\n",
      "290\n",
      "0.8276827371695179\n",
      "300\n",
      "0.8293269230769231\n",
      "310\n",
      "0.8296187683284457\n",
      "320\n",
      "0.8290331726679898\n",
      "330\n",
      "0.8282242474454571\n",
      "340\n",
      "0.8273168103448276\n",
      "350\n",
      "0.8267469248887725\n",
      "360\n",
      "0.8269133299543842\n",
      "370\n",
      "0.8280823616968495\n",
      "380\n",
      "0.8287092882991556\n",
      "390\n",
      "0.829227854097584\n",
      "400\n",
      "0.8302018093249826\n",
      "410\n",
      "0.8307033363390441\n",
      "420\n",
      "0.8304184193048484\n",
      "430\n",
      "0.8306069737408524\n",
      "440\n",
      "0.831042503700571\n",
      "450\n",
      "0.8304166666666667\n",
      "460\n",
      "0.8314766052258457\n",
      "470\n",
      "0.8292441630391769\n",
      "480\n",
      "0.8294243070362474\n",
      "490\n",
      "0.830460314453495\n",
      "500\n",
      "0.8306092124814265\n",
      "510\n",
      "0.8298604819713716\n",
      "520\n",
      "0.8298214285714286\n",
      "530\n",
      "0.8299894403379092\n",
      "540\n",
      "0.8288272774237989\n",
      "550\n",
      "0.8285811269517991\n",
      "560\n",
      "0.8288859239492995\n",
      "570\n",
      "0.831539465101109\n",
      "580\n",
      "0.8319502074688797\n",
      "590\n",
      "0.831506420294394\n",
      "600\n",
      "0.8311488049344642\n",
      "610\n",
      "0.8320265379975874\n",
      "620\n",
      "0.8323972805202483\n",
      "630\n",
      "0.8318300843759092\n",
      "640\n",
      "0.831849511774842\n",
      "650\n",
      "0.8325081341066629\n",
      "660\n",
      "0.8319843706391292\n",
      "670\n",
      "0.8305131379832164\n",
      "680\n",
      "0.8306713589604765\n",
      "690\n",
      "0.8316027689030884\n",
      "700\n",
      "0.831496062992126\n",
      "710\n",
      "0.8313237391417088\n",
      "720\n",
      "0.8298717948717949\n",
      "730\n",
      "0.8291139240506329\n",
      "740\n",
      "0.8295482904916396\n",
      "750\n",
      "0.8294030950626382\n",
      "760\n",
      "0.829404617253949\n",
      "770\n",
      "0.82953181272509\n",
      "780\n",
      "0.8276802656546489\n",
      "790\n",
      "0.8277232351566153\n",
      "800\n",
      "0.8278924904833314\n",
      "810\n",
      "0.8283369428929671\n",
      "820\n",
      "0.8285585889225929\n",
      "830\n",
      "0.8284128745837958\n",
      "840\n",
      "0.8281335522714833\n",
      "850\n",
      "0.8269624205879186\n",
      "860\n",
      "0.8267758400680562\n",
      "870\n",
      "0.8273759461732548\n",
      "880\n",
      "0.8277656363825581\n",
      "890\n",
      "0.8284892677416041\n",
      "900\n",
      "0.8287977254264826\n",
      "910\n",
      "0.8292094146047073\n"
     ]
    }
   ],
   "source": [
    "# оцените качество также как и раньше (если будет долго работать возьмите кусок данных)\n",
    "correct = 0\n",
    "total = 0\n",
    "incorrect = {'correct word':[], 'wrong word':[], 'predicted word':[]}\n",
    "\n",
    "for i in range(len(true)):\n",
    "    word_pairs = align_words(true[i], bad[i]) \n",
    "    \n",
    "    for pair in word_pairs:\n",
    "        \n",
    "        predicted = get_closest_hybrid_match(pair[1], X, vec)\n",
    "        if predicted == pair[0]:\n",
    "            correct += 1\n",
    "        else: \n",
    "            incorrect['correct word'].append(pair[0])\n",
    "            incorrect['wrong word'].append(pair[1])\n",
    "            incorrect['predicted word'].append(predicted)\n",
    "        total += 1\n",
    "    if not i % 10:\n",
    "        print(i)\n",
    "        print(correct/total)"
   ]
  },
  {
   "cell_type": "code",
   "execution_count": 54,
   "metadata": {},
   "outputs": [
    {
     "data": {
      "text/html": [
       "<div>\n",
       "<style scoped>\n",
       "    .dataframe tbody tr th:only-of-type {\n",
       "        vertical-align: middle;\n",
       "    }\n",
       "\n",
       "    .dataframe tbody tr th {\n",
       "        vertical-align: top;\n",
       "    }\n",
       "\n",
       "    .dataframe thead th {\n",
       "        text-align: right;\n",
       "    }\n",
       "</style>\n",
       "<table border=\"1\" class=\"dataframe\">\n",
       "  <thead>\n",
       "    <tr style=\"text-align: right;\">\n",
       "      <th></th>\n",
       "      <th>correct word</th>\n",
       "      <th>wrong word</th>\n",
       "      <th>predicted word</th>\n",
       "    </tr>\n",
       "  </thead>\n",
       "  <tbody>\n",
       "    <tr>\n",
       "      <th>0</th>\n",
       "      <td>симпатичнейшее</td>\n",
       "      <td>симпатичнейшое</td>\n",
       "      <td>пластичнейшими</td>\n",
       "    </tr>\n",
       "    <tr>\n",
       "      <th>1</th>\n",
       "      <td>шпионское</td>\n",
       "      <td>шпионское</td>\n",
       "      <td>шпионские</td>\n",
       "    </tr>\n",
       "    <tr>\n",
       "      <th>2</th>\n",
       "      <td>гламурный</td>\n",
       "      <td>гламурный</td>\n",
       "      <td>лагерный</td>\n",
       "    </tr>\n",
       "    <tr>\n",
       "      <th>3</th>\n",
       "      <td>бонда</td>\n",
       "      <td>бонда</td>\n",
       "      <td>банд</td>\n",
       "    </tr>\n",
       "    <tr>\n",
       "      <th>4</th>\n",
       "      <td>superheadz</td>\n",
       "      <td>superheadz</td>\n",
       "      <td>sueddeutsche</td>\n",
       "    </tr>\n",
       "    <tr>\n",
       "      <th>5</th>\n",
       "      <td>clap</td>\n",
       "      <td>clap</td>\n",
       "      <td>place</td>\n",
       "    </tr>\n",
       "    <tr>\n",
       "      <th>6</th>\n",
       "      <td>camera</td>\n",
       "      <td>camera</td>\n",
       "      <td>america</td>\n",
       "    </tr>\n",
       "    <tr>\n",
       "      <th>7</th>\n",
       "      <td>получатся</td>\n",
       "      <td>полчатся</td>\n",
       "      <td>ополчатся</td>\n",
       "    </tr>\n",
       "    <tr>\n",
       "      <th>8</th>\n",
       "      <td>язычки</td>\n",
       "      <td>язычки</td>\n",
       "      <td>язычка</td>\n",
       "    </tr>\n",
       "    <tr>\n",
       "      <th>9</th>\n",
       "      <td>очень</td>\n",
       "      <td>оччччень</td>\n",
       "      <td>чечни</td>\n",
       "    </tr>\n",
       "    <tr>\n",
       "      <th>10</th>\n",
       "      <td>милые</td>\n",
       "      <td>милые</td>\n",
       "      <td>милы</td>\n",
       "    </tr>\n",
       "    <tr>\n",
       "      <th>11</th>\n",
       "      <td>насчет</td>\n",
       "      <td>нащщот</td>\n",
       "      <td>защищено</td>\n",
       "    </tr>\n",
       "    <tr>\n",
       "      <th>12</th>\n",
       "      <td>чавеса</td>\n",
       "      <td>чавеса</td>\n",
       "      <td>чавес</td>\n",
       "    </tr>\n",
       "    <tr>\n",
       "      <th>13</th>\n",
       "      <td>попавшим</td>\n",
       "      <td>попавшим</td>\n",
       "      <td>пропавшим</td>\n",
       "    </tr>\n",
       "    <tr>\n",
       "      <th>14</th>\n",
       "      <td>аварийно-спасательных</td>\n",
       "      <td>аварийно-спасательных</td>\n",
       "      <td>аварийно-восстановительных</td>\n",
       "    </tr>\n",
       "    <tr>\n",
       "      <th>15</th>\n",
       "      <td>в</td>\n",
       "      <td>вобщем</td>\n",
       "      <td>общем</td>\n",
       "    </tr>\n",
       "    <tr>\n",
       "      <th>16</th>\n",
       "      <td>общем</td>\n",
       "      <td>как</td>\n",
       "      <td>как</td>\n",
       "    </tr>\n",
       "    <tr>\n",
       "      <th>17</th>\n",
       "      <td>как</td>\n",
       "      <td>вы</td>\n",
       "      <td>вы</td>\n",
       "    </tr>\n",
       "    <tr>\n",
       "      <th>18</th>\n",
       "      <td>вы</td>\n",
       "      <td>знаете</td>\n",
       "      <td>знаете</td>\n",
       "    </tr>\n",
       "    <tr>\n",
       "      <th>19</th>\n",
       "      <td>знаете</td>\n",
       "      <td>из</td>\n",
       "      <td>из</td>\n",
       "    </tr>\n",
       "    <tr>\n",
       "      <th>20</th>\n",
       "      <td>из</td>\n",
       "      <td>моего</td>\n",
       "      <td>моего</td>\n",
       "    </tr>\n",
       "    <tr>\n",
       "      <th>21</th>\n",
       "      <td>моего</td>\n",
       "      <td>не</td>\n",
       "      <td>не</td>\n",
       "    </tr>\n",
       "    <tr>\n",
       "      <th>22</th>\n",
       "      <td>недавнего</td>\n",
       "      <td>давнего</td>\n",
       "      <td>давнего</td>\n",
       "    </tr>\n",
       "    <tr>\n",
       "      <th>23</th>\n",
       "      <td>пропажу</td>\n",
       "      <td>пропажу</td>\n",
       "      <td>продажу</td>\n",
       "    </tr>\n",
       "    <tr>\n",
       "      <th>24</th>\n",
       "      <td>почте.ру</td>\n",
       "      <td>почте.ру</td>\n",
       "      <td>т.п</td>\n",
       "    </tr>\n",
       "    <tr>\n",
       "      <th>25</th>\n",
       "      <td>хорошо</td>\n",
       "      <td>хороше</td>\n",
       "      <td>хорошее</td>\n",
       "    </tr>\n",
       "    <tr>\n",
       "      <th>26</th>\n",
       "      <td>рите</td>\n",
       "      <td>рите</td>\n",
       "      <td>тире</td>\n",
       "    </tr>\n",
       "    <tr>\n",
       "      <th>27</th>\n",
       "      <td>потому</td>\n",
       "      <td>патаму</td>\n",
       "      <td>трампу</td>\n",
       "    </tr>\n",
       "    <tr>\n",
       "      <th>28</th>\n",
       "      <td>что</td>\n",
       "      <td>шта</td>\n",
       "      <td>штат</td>\n",
       "    </tr>\n",
       "    <tr>\n",
       "      <th>29</th>\n",
       "      <td>переждать</td>\n",
       "      <td>переждать</td>\n",
       "      <td>опережать</td>\n",
       "    </tr>\n",
       "    <tr>\n",
       "      <th>...</th>\n",
       "      <td>...</td>\n",
       "      <td>...</td>\n",
       "      <td>...</td>\n",
       "    </tr>\n",
       "    <tr>\n",
       "      <th>1678</th>\n",
       "      <td>парит</td>\n",
       "      <td>парит</td>\n",
       "      <td>партии</td>\n",
       "    </tr>\n",
       "    <tr>\n",
       "      <th>1679</th>\n",
       "      <td>1930-ые</td>\n",
       "      <td>1930-ые</td>\n",
       "      <td>1930-е</td>\n",
       "    </tr>\n",
       "    <tr>\n",
       "      <th>1680</th>\n",
       "      <td>гробить</td>\n",
       "      <td>гробить</td>\n",
       "      <td>угробить</td>\n",
       "    </tr>\n",
       "    <tr>\n",
       "      <th>1681</th>\n",
       "      <td>здесь</td>\n",
       "      <td>сдесь</td>\n",
       "      <td>садитесь</td>\n",
       "    </tr>\n",
       "    <tr>\n",
       "      <th>1682</th>\n",
       "      <td>собственно</td>\n",
       "      <td>собсно</td>\n",
       "      <td>снбо</td>\n",
       "    </tr>\n",
       "    <tr>\n",
       "      <th>1683</th>\n",
       "      <td>самые</td>\n",
       "      <td>саиые</td>\n",
       "      <td>сеаты</td>\n",
       "    </tr>\n",
       "    <tr>\n",
       "      <th>1684</th>\n",
       "      <td>как-то</td>\n",
       "      <td>какето</td>\n",
       "      <td>катке</td>\n",
       "    </tr>\n",
       "    <tr>\n",
       "      <th>1685</th>\n",
       "      <td>изюминку</td>\n",
       "      <td>изуминку</td>\n",
       "      <td>узнику</td>\n",
       "    </tr>\n",
       "    <tr>\n",
       "      <th>1686</th>\n",
       "      <td>опять</td>\n",
       "      <td>апять</td>\n",
       "      <td>пять</td>\n",
       "    </tr>\n",
       "    <tr>\n",
       "      <th>1687</th>\n",
       "      <td>мне</td>\n",
       "      <td>мной</td>\n",
       "      <td>мной</td>\n",
       "    </tr>\n",
       "    <tr>\n",
       "      <th>1688</th>\n",
       "      <td>свои</td>\n",
       "      <td>сваи</td>\n",
       "      <td>васи</td>\n",
       "    </tr>\n",
       "    <tr>\n",
       "      <th>1689</th>\n",
       "      <td>описывать</td>\n",
       "      <td>аписывать</td>\n",
       "      <td>записывать</td>\n",
       "    </tr>\n",
       "    <tr>\n",
       "      <th>1690</th>\n",
       "      <td>чтоб</td>\n",
       "      <td>шоб</td>\n",
       "      <td>бинош</td>\n",
       "    </tr>\n",
       "    <tr>\n",
       "      <th>1691</th>\n",
       "      <td>сабурово</td>\n",
       "      <td>сабурово</td>\n",
       "      <td>сабуров</td>\n",
       "    </tr>\n",
       "    <tr>\n",
       "      <th>1692</th>\n",
       "      <td>ничего</td>\n",
       "      <td>ничо</td>\n",
       "      <td>ночи</td>\n",
       "    </tr>\n",
       "    <tr>\n",
       "      <th>1693</th>\n",
       "      <td>совладав</td>\n",
       "      <td>совлаладав</td>\n",
       "      <td>валдас</td>\n",
       "    </tr>\n",
       "    <tr>\n",
       "      <th>1694</th>\n",
       "      <td>клятву</td>\n",
       "      <td>клятву</td>\n",
       "      <td>квяту</td>\n",
       "    </tr>\n",
       "    <tr>\n",
       "      <th>1695</th>\n",
       "      <td>прочитавшие</td>\n",
       "      <td>прочитавшие</td>\n",
       "      <td>почитавший</td>\n",
       "    </tr>\n",
       "    <tr>\n",
       "      <th>1696</th>\n",
       "      <td>поттероманы</td>\n",
       "      <td>поттероманы</td>\n",
       "      <td>портретным</td>\n",
       "    </tr>\n",
       "    <tr>\n",
       "      <th>1697</th>\n",
       "      <td>жизнь</td>\n",
       "      <td>жизни</td>\n",
       "      <td>жизни</td>\n",
       "    </tr>\n",
       "    <tr>\n",
       "      <th>1698</th>\n",
       "      <td>неожиданно</td>\n",
       "      <td>неожиданнго</td>\n",
       "      <td>неожиданного</td>\n",
       "    </tr>\n",
       "    <tr>\n",
       "      <th>1699</th>\n",
       "      <td>подворотни</td>\n",
       "      <td>подворотни</td>\n",
       "      <td>подворотном</td>\n",
       "    </tr>\n",
       "    <tr>\n",
       "      <th>1700</th>\n",
       "      <td>прожектор</td>\n",
       "      <td>прожектор</td>\n",
       "      <td>прожекторов</td>\n",
       "    </tr>\n",
       "    <tr>\n",
       "      <th>1701</th>\n",
       "      <td>лязгом</td>\n",
       "      <td>лязгом</td>\n",
       "      <td>лязга</td>\n",
       "    </tr>\n",
       "    <tr>\n",
       "      <th>1702</th>\n",
       "      <td>собственно</td>\n",
       "      <td>собссно</td>\n",
       "      <td>босс</td>\n",
       "    </tr>\n",
       "    <tr>\n",
       "      <th>1703</th>\n",
       "      <td>готовься</td>\n",
       "      <td>готовься</td>\n",
       "      <td>готовиться</td>\n",
       "    </tr>\n",
       "    <tr>\n",
       "      <th>1704</th>\n",
       "      <td>подешевеет</td>\n",
       "      <td>подешевеет</td>\n",
       "      <td>подешевле</td>\n",
       "    </tr>\n",
       "    <tr>\n",
       "      <th>1705</th>\n",
       "      <td>квартирку</td>\n",
       "      <td>квартирку</td>\n",
       "      <td>квартиру</td>\n",
       "    </tr>\n",
       "    <tr>\n",
       "      <th>1706</th>\n",
       "      <td>проапгрейдить</td>\n",
       "      <td>проапгрейдить</td>\n",
       "      <td>преградить</td>\n",
       "    </tr>\n",
       "    <tr>\n",
       "      <th>1707</th>\n",
       "      <td>всеоружии</td>\n",
       "      <td>всеоружии</td>\n",
       "      <td>оружии</td>\n",
       "    </tr>\n",
       "  </tbody>\n",
       "</table>\n",
       "<p>1708 rows × 3 columns</p>\n",
       "</div>"
      ],
      "text/plain": [
       "               correct word             wrong word              predicted word\n",
       "0            симпатичнейшее         симпатичнейшое              пластичнейшими\n",
       "1                 шпионское              шпионское                   шпионские\n",
       "2                 гламурный              гламурный                    лагерный\n",
       "3                     бонда                  бонда                        банд\n",
       "4                superheadz             superheadz                sueddeutsche\n",
       "5                      clap                   clap                       place\n",
       "6                    camera                 camera                     america\n",
       "7                 получатся               полчатся                   ополчатся\n",
       "8                    язычки                 язычки                      язычка\n",
       "9                     очень               оччччень                       чечни\n",
       "10                    милые                  милые                        милы\n",
       "11                   насчет                 нащщот                    защищено\n",
       "12                   чавеса                 чавеса                       чавес\n",
       "13                 попавшим               попавшим                   пропавшим\n",
       "14    аварийно-спасательных  аварийно-спасательных  аварийно-восстановительных\n",
       "15                        в                 вобщем                       общем\n",
       "16                    общем                    как                         как\n",
       "17                      как                     вы                          вы\n",
       "18                       вы                 знаете                      знаете\n",
       "19                   знаете                     из                          из\n",
       "20                       из                  моего                       моего\n",
       "21                    моего                     не                          не\n",
       "22                недавнего                давнего                     давнего\n",
       "23                  пропажу                пропажу                     продажу\n",
       "24                 почте.ру               почте.ру                         т.п\n",
       "25                   хорошо                 хороше                     хорошее\n",
       "26                     рите                   рите                        тире\n",
       "27                   потому                 патаму                      трампу\n",
       "28                      что                    шта                        штат\n",
       "29                переждать              переждать                   опережать\n",
       "...                     ...                    ...                         ...\n",
       "1678                  парит                  парит                      партии\n",
       "1679                1930-ые                1930-ые                      1930-е\n",
       "1680                гробить                гробить                    угробить\n",
       "1681                  здесь                  сдесь                    садитесь\n",
       "1682             собственно                 собсно                        снбо\n",
       "1683                  самые                  саиые                       сеаты\n",
       "1684                 как-то                 какето                       катке\n",
       "1685               изюминку               изуминку                      узнику\n",
       "1686                  опять                  апять                        пять\n",
       "1687                    мне                   мной                        мной\n",
       "1688                   свои                   сваи                        васи\n",
       "1689              описывать              аписывать                  записывать\n",
       "1690                   чтоб                    шоб                       бинош\n",
       "1691               сабурово               сабурово                     сабуров\n",
       "1692                 ничего                   ничо                        ночи\n",
       "1693               совладав             совлаладав                      валдас\n",
       "1694                 клятву                 клятву                       квяту\n",
       "1695            прочитавшие            прочитавшие                  почитавший\n",
       "1696            поттероманы            поттероманы                  портретным\n",
       "1697                  жизнь                  жизни                       жизни\n",
       "1698             неожиданно            неожиданнго                неожиданного\n",
       "1699             подворотни             подворотни                 подворотном\n",
       "1700              прожектор              прожектор                 прожекторов\n",
       "1701                 лязгом                 лязгом                       лязга\n",
       "1702             собственно                собссно                        босс\n",
       "1703               готовься               готовься                  готовиться\n",
       "1704             подешевеет             подешевеет                   подешевле\n",
       "1705              квартирку              квартирку                    квартиру\n",
       "1706          проапгрейдить          проапгрейдить                  преградить\n",
       "1707              всеоружии              всеоружии                      оружии\n",
       "\n",
       "[1708 rows x 3 columns]"
      ]
     },
     "metadata": {},
     "output_type": "display_data"
    }
   ],
   "source": [
    "# смотрим на ошибки\n",
    "df = pd.DataFrame(incorrect)\n",
    "display(df)"
   ]
  },
  {
   "cell_type": "markdown",
   "metadata": {},
   "source": [
    "В рассмотренных методах при выборе исправления никак не использовался контекст. Про то как это можно сделать, можно почитать вот тут - https://habr.com/ru/post/346618/"
   ]
  }
 ],
 "metadata": {
  "anaconda-cloud": {},
  "kernelspec": {
   "display_name": "Python 3",
   "language": "python",
   "name": "python3"
  },
  "language_info": {
   "codemirror_mode": {
    "name": "ipython",
    "version": 3
   },
   "file_extension": ".py",
   "mimetype": "text/x-python",
   "name": "python",
   "nbconvert_exporter": "python",
   "pygments_lexer": "ipython3",
   "version": "3.7.0"
  }
 },
 "nbformat": 4,
 "nbformat_minor": 1
}
