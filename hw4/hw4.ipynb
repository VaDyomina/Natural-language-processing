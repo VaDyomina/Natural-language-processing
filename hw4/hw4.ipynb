{
 "cells": [
  {
   "cell_type": "markdown",
   "metadata": {},
   "source": [
    "#  Задание по теме «Автоматический синтаксический анализ»"
   ]
  },
  {
   "cell_type": "markdown",
   "metadata": {},
   "source": [
    "### *За основу было взято выполненное мной д/з в рамках курса \"Компьютерная лингвистика\":*\n",
    "https://github.com/VaDyomina/Computational_linguistics/blob/master/homework2.ipynb"
   ]
  },
  {
   "cell_type": "code",
   "execution_count": 8,
   "metadata": {},
   "outputs": [],
   "source": [
    "sents = ['Вася читает мою книгу', 'Напиши какое-нибудь письмо', 'Этот веселый мальчик идет',\n",
    "         'Он любит читать всякие книги'] # 1-ое предложение - омонимия, 2-ое - повелительное наклонение\n",
    "                                         # 3-е - непереходный глагол"
   ]
  },
  {
   "cell_type": "markdown",
   "metadata": {},
   "source": [
    "## 1. Строим деревья:"
   ]
  },
  {
   "cell_type": "code",
   "execution_count": 2,
   "metadata": {},
   "outputs": [],
   "source": [
    "from nltk import Tree\n",
    "from nltk.draw.util import CanvasFrame\n",
    "from nltk.draw import TreeWidget"
   ]
  },
  {
   "cell_type": "markdown",
   "metadata": {},
   "source": [
    "<img src=\"tree1.png\"/>"
   ]
  },
  {
   "cell_type": "markdown",
   "metadata": {},
   "source": [
    "<img src=\"tree2.png\"/>"
   ]
  },
  {
   "cell_type": "markdown",
   "metadata": {},
   "source": [
    "<img src=\"tree3.png\"/>"
   ]
  },
  {
   "cell_type": "markdown",
   "metadata": {},
   "source": [
    "<img src=\"tree4.png\"/>"
   ]
  },
  {
   "cell_type": "markdown",
   "metadata": {},
   "source": [
    "## 2. Строим КС-грамматику:"
   ]
  },
  {
   "cell_type": "code",
   "execution_count": 9,
   "metadata": {},
   "outputs": [],
   "source": [
    "rules = \"\"\"\n",
    "     S -> NP VP  \n",
    "     S -> NP V\n",
    "     S -> VP\n",
    "     NP -> ADJ NP \n",
    "     NP -> ADJ N \n",
    "     NP -> NN\n",
    "     VP -> V NP\n",
    "     VP -> V VP \n",
    "     N -> 'книгу' | 'письмо' | 'мальчик' | 'книги'\n",
    "     NN -> 'Вася' | 'Он'\n",
    "     V -> 'читает' | 'Напиши' | 'идет' | 'любит' | 'читать'\n",
    "     ADJ -> 'мою' | 'какое-нибудь' | 'Этот' | 'веселый' | 'всякие'\n",
    "\"\"\".split('\\n')"
   ]
  },
  {
   "cell_type": "code",
   "execution_count": 4,
   "metadata": {},
   "outputs": [],
   "source": [
    "grammar = nltk.CFG.fromstring('\\n'.join(rules))"
   ]
  },
  {
   "cell_type": "code",
   "execution_count": 5,
   "metadata": {},
   "outputs": [],
   "source": [
    "def print_parses(parser, sentence):\n",
    "    for tree in parser.parse(sentence.split()):\n",
    "        print(tree)\n",
    "        print()"
   ]
  },
  {
   "cell_type": "markdown",
   "metadata": {},
   "source": [
    "## 3. Применяем алгоритм Кока-Янгера-Касами (CYK):"
   ]
  },
  {
   "cell_type": "markdown",
   "metadata": {},
   "source": [
    "### Последовательно продемонстрируем действие CYK: \n",
    "* Разделим предложение на слова и поместим на нулевую строку: "
   ]
  },
  {
   "cell_type": "markdown",
   "metadata": {},
   "source": [
    "<table style=\"width: 250px;\" >\n",
    "    <tbody>\n",
    "        <tr>\n",
    "            <td></td>\n",
    "            <td><b>1</b></td>\n",
    "            <td><b>2</b></td>\n",
    "            <td><b>3</b></td>\n",
    "            <td><b>4</b></td>\n",
    "        </tr>\n",
    "        <tr>\n",
    "            <td><b>4</b></td>\n",
    "            <td></td>\n",
    "            <td></td>\n",
    "            <td></td>\n",
    "            <td></td>\n",
    "        </tr>\n",
    "        <tr>\n",
    "            <td><b>3</b></td>\n",
    "            <td></td>\n",
    "            <td></td>\n",
    "            <td></td>\n",
    "            <td></td>\n",
    "        </tr>\n",
    "        <tr>\n",
    "            <td><b>2</b></td>\n",
    "            <td></td>\n",
    "            <td></td>\n",
    "            <td></td>\n",
    "            <td></td>\n",
    "        </tr>\n",
    "        <tr>\n",
    "            <td><b>1</b></td>\n",
    "            <td></td>\n",
    "            <td></td>\n",
    "            <td></td>\n",
    "            <td></td>\n",
    "        </tr>\n",
    "        <tr>\n",
    "            <td><b>0</b></td>\n",
    "            <td>Вася</td>\n",
    "            <td>читает</td>\n",
    "            <td>мою</td>\n",
    "            <td>книгу</td>\n",
    "        </tr>\n",
    "    </tbody>\n",
    "</table>"
   ]
  },
  {
   "cell_type": "markdown",
   "metadata": {},
   "source": [
    "* В первую строку внесем нетерминальные символы, соотвествующие заданным терминальным:"
   ]
  },
  {
   "cell_type": "markdown",
   "metadata": {},
   "source": [
    "<table align=\"center\" style=\"width: 250px; text-align: 'center';\" > \n",
    "    <tbody>\n",
    "        <tr>\n",
    "            <td></td>\n",
    "            <td><b>1</b></td>\n",
    "            <td><b>2</b></td>\n",
    "            <td><b>3</b></td>\n",
    "            <td><b>4</b></td>\n",
    "        </tr>\n",
    "        <tr>\n",
    "            <td><b>4</b></td>\n",
    "            <td></td>\n",
    "            <td></td>\n",
    "            <td></td>\n",
    "            <td></td>\n",
    "        </tr>\n",
    "        <tr>\n",
    "            <td><b>3</b></td>\n",
    "            <td></td>\n",
    "            <td></td>\n",
    "            <td></td>\n",
    "            <td></td>\n",
    "        </tr>\n",
    "        <tr>\n",
    "            <td><b>2</b></td>\n",
    "            <td></td>\n",
    "            <td></td>\n",
    "            <td></td>\n",
    "            <td></td>\n",
    "        </tr>\n",
    "        <tr>\n",
    "            <td><b>1</b></td>\n",
    "            <td style=\"text-align: center;\">N</td>\n",
    "            <td style=\"text-align: center;\">V</td>\n",
    "            <td style=\"text-align: center;\">ADJ</td>\n",
    "            <td style=\"text-align: center;\">N</td>\n",
    "        </tr>\n",
    "        <tr>\n",
    "            <td><b>0</b></td>\n",
    "            <td>Вася</td>\n",
    "            <td>читает</td>\n",
    "            <td>мою</td>\n",
    "            <td>книгу</td>\n",
    "        </tr>\n",
    "    </tbody>\n",
    "</table>"
   ]
  },
  {
   "cell_type": "markdown",
   "metadata": {},
   "source": [
    "* Найдем все возможные разбиения на 2 составляющих c шагом 1 (NP -> ADJ N): "
   ]
  },
  {
   "cell_type": "markdown",
   "metadata": {},
   "source": [
    "<table align=\"center\" style=\"width: 250px; text-align: 'center';\" > \n",
    "    <tbody>\n",
    "        <tr>\n",
    "            <td></td>\n",
    "            <td><b>1</b></td>\n",
    "            <td><b>2</b></td>\n",
    "            <td><b>3</b></td>\n",
    "            <td><b>4</b></td>\n",
    "        </tr>\n",
    "        <tr>\n",
    "            <td><b>4</b></td>\n",
    "            <td></td>\n",
    "            <td></td>\n",
    "            <td></td>\n",
    "            <td></td>\n",
    "        </tr>\n",
    "        <tr>\n",
    "            <td><b>3</b></td>\n",
    "            <td></td>\n",
    "            <td></td>\n",
    "            <td></td>\n",
    "            <td></td>\n",
    "        </tr>\n",
    "        <tr>\n",
    "            <td><b>2</b></td>\n",
    "            <td></td>\n",
    "            <td></td>\n",
    "            <td style=\"text-align: center;\">NP</td>\n",
    "            <td></td>\n",
    "        </tr>\n",
    "        <tr>\n",
    "            <td><b>1</b></td>\n",
    "            <td style=\"text-align: center;\">N</td>\n",
    "            <td style=\"text-align: center;\">V</td>\n",
    "            <td style=\"text-align: center;\">ADJ</td>\n",
    "            <td style=\"text-align: center;\">N</td>\n",
    "        </tr>\n",
    "        <tr>\n",
    "            <td><b>0</b></td>\n",
    "            <td>Вася</td>\n",
    "            <td>читает</td>\n",
    "            <td>мою</td>\n",
    "            <td>книгу</td>\n",
    "        </tr>\n",
    "    </tbody>\n",
    "</table>"
   ]
  },
  {
   "cell_type": "markdown",
   "metadata": {},
   "source": [
    "* Найдем все возможные разбиения на 2 составляющих с шагом 3(VP -> V NP):"
   ]
  },
  {
   "cell_type": "markdown",
   "metadata": {},
   "source": [
    "<table align=\"center\" style=\"width: 250px; text-align: 'center';\" > \n",
    "    <tbody>\n",
    "        <tr>\n",
    "            <td></td>\n",
    "            <td><b>1</b></td>\n",
    "            <td><b>2</b></td>\n",
    "            <td><b>3</b></td>\n",
    "            <td><b>4</b></td>\n",
    "        </tr>\n",
    "        <tr>\n",
    "            <td><b>4</b></td>\n",
    "            <td></td>\n",
    "            <td></td>\n",
    "            <td></td>\n",
    "            <td></td>\n",
    "        </tr>\n",
    "        <tr>\n",
    "            <td><b>3</b></td>\n",
    "            <td></td>\n",
    "            <td  style=\"text-align: center;\">VP</td>\n",
    "            <td></td>\n",
    "            <td></td>\n",
    "        </tr>\n",
    "        <tr>\n",
    "            <td><b>2</b></td>\n",
    "            <td></td>\n",
    "            <td></td>\n",
    "            <td style=\"text-align: center;\">NP</td>\n",
    "            <td></td>\n",
    "        </tr>\n",
    "        <tr>\n",
    "            <td><b>1</b></td>\n",
    "            <td style=\"text-align: center;\">N</td>\n",
    "            <td style=\"text-align: center;\">V</td>\n",
    "            <td style=\"text-align: center;\">ADJ</td>\n",
    "            <td style=\"text-align: center;\">N</td>\n",
    "        </tr>\n",
    "        <tr>\n",
    "            <td><b>0</b></td>\n",
    "            <td>Вася</td>\n",
    "            <td>читает</td>\n",
    "            <td>мою</td>\n",
    "            <td>книгу</td>\n",
    "        </tr>\n",
    "    </tbody>\n",
    "</table>"
   ]
  },
  {
   "cell_type": "markdown",
   "metadata": {},
   "source": [
    "* **S -> NP VP => предложение выводится заданной нами грамматикой в нормальной форме Хомского:**"
   ]
  },
  {
   "cell_type": "markdown",
   "metadata": {},
   "source": [
    "<table align=\"center\" style=\"width: 250px; text-align: 'center';\" >\n",
    "    <tbody>\n",
    "        <tr>\n",
    "            <td></td>\n",
    "            <td><b>1</b></td>\n",
    "            <td><b>2</b></td>\n",
    "            <td><b>3</b></td>\n",
    "            <td><b>4</b></td>\n",
    "        </tr>\n",
    "        <tr>\n",
    "            <td><b>4</b></td>\n",
    "            <td style=\"text-align: center;\">S</td>\n",
    "            <td></td>\n",
    "            <td></td>\n",
    "            <td></td>\n",
    "        </tr>\n",
    "        <tr>\n",
    "            <td><b>3</b></td>\n",
    "            <td></td>\n",
    "            <td style=\"text-align: center;\">VP</td>\n",
    "            <td></td>\n",
    "            <td></td>\n",
    "        </tr>\n",
    "        <tr>\n",
    "            <td><b>2</b></td>\n",
    "            <td></td>\n",
    "            <td></td>\n",
    "            <td style=\"text-align: center;\">NP</td>\n",
    "            <td></td>\n",
    "        </tr>\n",
    "        <tr>\n",
    "            <td><b>1</b></td>\n",
    "            <td style=\"text-align: center;\">N</td>\n",
    "            <td style=\"text-align: center;\">V</td>\n",
    "            <td style=\"text-align: center;\">ADJ</td>\n",
    "            <td style=\"text-align: center;\">N</td>\n",
    "        </tr>\n",
    "        <tr>\n",
    "            <td><b>0</b></td>\n",
    "            <td>Вася</td>\n",
    "            <td>читает</td>\n",
    "            <td>мою</td>\n",
    "            <td>книгу</td>\n",
    "        </tr>\n",
    "    </tbody>\n",
    "</table>"
   ]
  },
  {
   "cell_type": "markdown",
   "metadata": {},
   "source": [
    "## 4. Переводим КС в нормальную форму Хомского:"
   ]
  },
  {
   "cell_type": "code",
   "execution_count": 10,
   "metadata": {},
   "outputs": [],
   "source": [
    "new_rules = \"\"\"\n",
    "    S -> NP VP \n",
    "    S -> 'читать' | 'написать' | 'идти' | 'любить'\n",
    "    S -> Verb NP\n",
    "    NP -> 'я'\n",
    "    NP -> 'вася'\n",
    "    NP -> 'книга' | 'письмо' | 'мальчик'\n",
    "    NP -> Adj NP\n",
    "    VP -> 'читать' | 'написать' | 'идти' | 'любить' \n",
    "    VP -> Verb NP\n",
    "    VP -> Verb VP\n",
    "    Verb -> 'читать' | 'написать' | 'идти' | 'любить' \n",
    "    Adj -> 'мой' | 'какой-нибудь' | 'этот' | 'весёлый' | 'всякий'\n",
    "\"\"\".split('\\n')"
   ]
  },
  {
   "cell_type": "code",
   "execution_count": 14,
   "metadata": {},
   "outputs": [],
   "source": [
    "new_sent = 'Мой мальчик пишет письмо'"
   ]
  },
  {
   "cell_type": "markdown",
   "metadata": {},
   "source": [
    "## 5. Применяем алгоритм Кока-Янгера-Касами (CYK) к новому предложению:"
   ]
  },
  {
   "cell_type": "markdown",
   "metadata": {},
   "source": [
    "### Последовательно продемонстрируем действие CYK: \n",
    "* Разделим предложение на слова и поместим на нулевую строку: "
   ]
  },
  {
   "cell_type": "markdown",
   "metadata": {},
   "source": [
    "<table style=\"width: 250px;\" >\n",
    "    <tbody>\n",
    "        <tr>\n",
    "            <td></td>\n",
    "            <td><b>1</b></td>\n",
    "            <td><b>2</b></td>\n",
    "            <td><b>3</b></td>\n",
    "            <td><b>4</b></td>\n",
    "        </tr>\n",
    "        <tr>\n",
    "            <td><b>4</b></td>\n",
    "            <td></td>\n",
    "            <td></td>\n",
    "            <td></td>\n",
    "            <td></td>\n",
    "        </tr>\n",
    "        <tr>\n",
    "            <td><b>3</b></td>\n",
    "            <td></td>\n",
    "            <td></td>\n",
    "            <td></td>\n",
    "            <td></td>\n",
    "        </tr>\n",
    "        <tr>\n",
    "            <td><b>2</b></td>\n",
    "            <td></td>\n",
    "            <td></td>\n",
    "            <td></td>\n",
    "            <td></td>\n",
    "        </tr>\n",
    "        <tr>\n",
    "            <td><b>1</b></td>\n",
    "            <td></td>\n",
    "            <td></td>\n",
    "            <td></td>\n",
    "            <td></td>\n",
    "        </tr>\n",
    "        <tr>\n",
    "            <td><b>0</b></td>\n",
    "            <td>Мой</td>\n",
    "            <td>мальчик</td>\n",
    "            <td>пишет</td>\n",
    "            <td>письмо</td>\n",
    "        </tr>\n",
    "    </tbody>\n",
    "</table>"
   ]
  },
  {
   "cell_type": "markdown",
   "metadata": {},
   "source": [
    "* В первую строку внесем нетерминальные символы, соотвествующие заданным терминальным:"
   ]
  },
  {
   "cell_type": "markdown",
   "metadata": {},
   "source": [
    "<table align=\"center\" style=\"width: 250px; text-align: 'center';\" > \n",
    "    <tbody>\n",
    "        <tr>\n",
    "            <td></td>\n",
    "            <td><b>1</b></td>\n",
    "            <td><b>2</b></td>\n",
    "            <td><b>3</b></td>\n",
    "            <td><b>4</b></td>\n",
    "        </tr>\n",
    "        <tr>\n",
    "            <td><b>4</b></td>\n",
    "            <td></td>\n",
    "            <td></td>\n",
    "            <td></td>\n",
    "            <td></td>\n",
    "        </tr>\n",
    "        <tr>\n",
    "            <td><b>3</b></td>\n",
    "            <td></td>\n",
    "            <td></td>\n",
    "            <td></td>\n",
    "            <td></td>\n",
    "        </tr>\n",
    "        <tr>\n",
    "            <td><b>2</b></td>\n",
    "            <td></td>\n",
    "            <td></td>\n",
    "            <td></td>\n",
    "            <td></td>\n",
    "        </tr>\n",
    "        <tr>\n",
    "            <td><b>1</b></td>\n",
    "            <td style=\"text-align: center;\">ADJ</td>\n",
    "            <td style=\"text-align: center;\">N</td>\n",
    "            <td style=\"text-align: center;\">V</td>\n",
    "            <td style=\"text-align: center;\">N</td>\n",
    "        </tr>\n",
    "        <tr>\n",
    "            <td><b>0</b></td>\n",
    "            <td>Мой</td>\n",
    "            <td>мальчик</td>\n",
    "            <td>пишет</td>\n",
    "            <td>письмо</td>\n",
    "        </tr>\n",
    "    </tbody>\n",
    "</table>"
   ]
  },
  {
   "cell_type": "markdown",
   "metadata": {},
   "source": [
    "* Найдем все возможные разбиения на 2 составляющих c шагом 1 (NP -> ADJ N): "
   ]
  },
  {
   "cell_type": "markdown",
   "metadata": {},
   "source": [
    "<table align=\"center\" style=\"width: 250px; text-align: 'center';\" > \n",
    "    <tbody>\n",
    "        <tr>\n",
    "            <td></td>\n",
    "            <td><b>1</b></td>\n",
    "            <td><b>2</b></td>\n",
    "            <td><b>3</b></td>\n",
    "            <td><b>4</b></td>\n",
    "        </tr>\n",
    "        <tr>\n",
    "            <td><b>4</b></td>\n",
    "            <td></td>\n",
    "            <td></td>\n",
    "            <td></td>\n",
    "            <td></td>\n",
    "        </tr>\n",
    "        <tr>\n",
    "            <td><b>3</b></td>\n",
    "            <td></td>\n",
    "            <td></td>\n",
    "            <td></td>\n",
    "            <td></td>\n",
    "        </tr>\n",
    "        <tr>\n",
    "            <td><b>2</b></td>\n",
    "            <td style=\"text-align: center;\">NP</td>\n",
    "            <td></td>\n",
    "            <td></td>\n",
    "            <td></td>\n",
    "        </tr>\n",
    "        <tr>\n",
    "            <td><b>1</b></td>\n",
    "            <td style=\"text-align: center;\">ADJ</td>\n",
    "            <td style=\"text-align: center;\">N</td>\n",
    "            <td style=\"text-align: center;\">V</td>\n",
    "            <td style=\"text-align: center;\">N</td>\n",
    "        </tr>\n",
    "        <tr>\n",
    "            <td><b>0</b></td>\n",
    "            <td>Мой</td>\n",
    "            <td>мальчик</td>\n",
    "            <td>пишет</td>\n",
    "            <td>письмо</td>\n",
    "        </tr>\n",
    "    </tbody>\n",
    "</table>"
   ]
  },
  {
   "cell_type": "markdown",
   "metadata": {},
   "source": [
    "* Найдем все возможные разбиения на 2 составляющих с шагом 3(VP -> V NP):"
   ]
  },
  {
   "cell_type": "markdown",
   "metadata": {},
   "source": [
    "<table align=\"center\" style=\"width: 250px; text-align: 'center';\" > \n",
    "    <tbody>\n",
    "        <tr>\n",
    "            <td></td>\n",
    "            <td><b>1</b></td>\n",
    "            <td><b>2</b></td>\n",
    "            <td><b>3</b></td>\n",
    "            <td><b>4</b></td>\n",
    "        </tr>\n",
    "        <tr>\n",
    "            <td><b>4</b></td>\n",
    "            <td></td>\n",
    "            <td></td>\n",
    "            <td></td>\n",
    "            <td></td>\n",
    "        </tr>\n",
    "        <tr>\n",
    "            <td><b>3</b></td>\n",
    "            <td></td>\n",
    "            <td></td>\n",
    "            <td style=\"text-align: center;\">VP</td>\n",
    "            <td></td>\n",
    "        </tr>\n",
    "        <tr>\n",
    "            <td><b>2</b></td>\n",
    "            <td style=\"text-align: center;\">NP</td>\n",
    "            <td></td>\n",
    "            <td></td>\n",
    "            <td></td>\n",
    "        </tr>\n",
    "        <tr>\n",
    "            <td><b>1</b></td>\n",
    "            <td style=\"text-align: center;\">ADJ</td>\n",
    "            <td style=\"text-align: center;\">N</td>\n",
    "            <td style=\"text-align: center;\">V</td>\n",
    "            <td style=\"text-align: center;\">N</td>\n",
    "        </tr>\n",
    "        <tr>\n",
    "            <td><b>0</b></td>\n",
    "            <td>Мой</td>\n",
    "            <td>мальчик</td>\n",
    "            <td>пишет</td>\n",
    "            <td>письмо</td>\n",
    "        </tr>\n",
    "    </tbody>\n",
    "</table>"
   ]
  },
  {
   "cell_type": "markdown",
   "metadata": {},
   "source": [
    "* **S -> NP VP => предложение выводится заданной нами грамматикой в нормальной форме Хомского:**"
   ]
  },
  {
   "cell_type": "markdown",
   "metadata": {},
   "source": [
    "<table align=\"center\" style=\"width: 250px; text-align: 'center';\" > \n",
    "    <tbody>\n",
    "        <tr>\n",
    "            <td></td>\n",
    "            <td><b>1</b></td>\n",
    "            <td><b>2</b></td>\n",
    "            <td><b>3</b></td>\n",
    "            <td><b>4</b></td>\n",
    "        </tr>\n",
    "        <tr>\n",
    "            <td><b>4</b></td>\n",
    "            <td style=\"text-align: center;\">S</td>\n",
    "            <td></td>\n",
    "            <td></td>\n",
    "            <td></td>\n",
    "        </tr>\n",
    "        <tr>\n",
    "            <td><b>3</b></td>\n",
    "            <td></td>\n",
    "            <td></td>\n",
    "            <td style=\"text-align: center;\">VP</td>\n",
    "            <td></td>\n",
    "        </tr>\n",
    "        <tr>\n",
    "            <td><b>2</b></td>\n",
    "            <td style=\"text-align: center;\">NP</td>\n",
    "            <td></td>\n",
    "            <td></td>\n",
    "            <td></td>\n",
    "        </tr>\n",
    "        <tr>\n",
    "            <td><b>1</b></td>\n",
    "            <td style=\"text-align: center;\">ADJ</td>\n",
    "            <td style=\"text-align: center;\">N</td>\n",
    "            <td style=\"text-align: center;\">V</td>\n",
    "            <td style=\"text-align: center;\">N</td>\n",
    "        </tr>\n",
    "        <tr>\n",
    "            <td><b>0</b></td>\n",
    "            <td>Мой</td>\n",
    "            <td>мальчик</td>\n",
    "            <td>пишет</td>\n",
    "            <td>письмо</td>\n",
    "        </tr>\n",
    "    </tbody>\n",
    "</table>"
   ]
  }
 ],
 "metadata": {
  "kernelspec": {
   "display_name": "Python 3",
   "language": "python",
   "name": "python3"
  },
  "language_info": {
   "codemirror_mode": {
    "name": "ipython",
    "version": 3
   },
   "file_extension": ".py",
   "mimetype": "text/x-python",
   "name": "python",
   "nbconvert_exporter": "python",
   "pygments_lexer": "ipython3",
   "version": "3.7.0"
  }
 },
 "nbformat": 4,
 "nbformat_minor": 2
}
